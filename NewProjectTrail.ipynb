{
  "cells": [
    {
      "cell_type": "markdown",
      "metadata": {
        "id": "view-in-github",
        "colab_type": "text"
      },
      "source": [
        "<a href=\"https://colab.research.google.com/github/sivachinthala/CSA0539.-DBMS/blob/main/NewProjectTrail.ipynb\" target=\"_parent\"><img src=\"https://colab.research.google.com/assets/colab-badge.svg\" alt=\"Open In Colab\"/></a>"
      ]
    },
    {
      "cell_type": "code",
      "execution_count": null,
      "metadata": {
        "colab": {
          "background_save": true
        },
        "id": "oS0rsQjLqj1u"
      },
      "outputs": [],
      "source": [
        "import pandas as pd\n",
        "import numpy as np\n",
        "import matplotlib.pyplot as plt\n",
        "import seaborn as sns\n",
        "\n",
        "import warnings\n",
        "warnings.filterwarnings('ignore')"
      ]
    },
    {
      "cell_type": "code",
      "execution_count": null,
      "metadata": {
        "colab": {
          "background_save": true
        },
        "id": "Hex1o0yxqq4Q",
        "outputId": "63420714-d6f8-4b7f-ab1c-fdadcbcc211a"
      },
      "outputs": [
        {
          "data": {
            "text/html": [
              "\n",
              "     <input type=\"file\" id=\"files-dbd448fe-7341-4dea-b733-ff214ebc21bc\" name=\"files[]\" multiple disabled\n",
              "        style=\"border:none\" />\n",
              "     <output id=\"result-dbd448fe-7341-4dea-b733-ff214ebc21bc\">\n",
              "      Upload widget is only available when the cell has been executed in the\n",
              "      current browser session. Please rerun this cell to enable.\n",
              "      </output>\n",
              "      <script>// Copyright 2017 Google LLC\n",
              "//\n",
              "// Licensed under the Apache License, Version 2.0 (the \"License\");\n",
              "// you may not use this file except in compliance with the License.\n",
              "// You may obtain a copy of the License at\n",
              "//\n",
              "//      http://www.apache.org/licenses/LICENSE-2.0\n",
              "//\n",
              "// Unless required by applicable law or agreed to in writing, software\n",
              "// distributed under the License is distributed on an \"AS IS\" BASIS,\n",
              "// WITHOUT WARRANTIES OR CONDITIONS OF ANY KIND, either express or implied.\n",
              "// See the License for the specific language governing permissions and\n",
              "// limitations under the License.\n",
              "\n",
              "/**\n",
              " * @fileoverview Helpers for google.colab Python module.\n",
              " */\n",
              "(function(scope) {\n",
              "function span(text, styleAttributes = {}) {\n",
              "  const element = document.createElement('span');\n",
              "  element.textContent = text;\n",
              "  for (const key of Object.keys(styleAttributes)) {\n",
              "    element.style[key] = styleAttributes[key];\n",
              "  }\n",
              "  return element;\n",
              "}\n",
              "\n",
              "// Max number of bytes which will be uploaded at a time.\n",
              "const MAX_PAYLOAD_SIZE = 100 * 1024;\n",
              "\n",
              "function _uploadFiles(inputId, outputId) {\n",
              "  const steps = uploadFilesStep(inputId, outputId);\n",
              "  const outputElement = document.getElementById(outputId);\n",
              "  // Cache steps on the outputElement to make it available for the next call\n",
              "  // to uploadFilesContinue from Python.\n",
              "  outputElement.steps = steps;\n",
              "\n",
              "  return _uploadFilesContinue(outputId);\n",
              "}\n",
              "\n",
              "// This is roughly an async generator (not supported in the browser yet),\n",
              "// where there are multiple asynchronous steps and the Python side is going\n",
              "// to poll for completion of each step.\n",
              "// This uses a Promise to block the python side on completion of each step,\n",
              "// then passes the result of the previous step as the input to the next step.\n",
              "function _uploadFilesContinue(outputId) {\n",
              "  const outputElement = document.getElementById(outputId);\n",
              "  const steps = outputElement.steps;\n",
              "\n",
              "  const next = steps.next(outputElement.lastPromiseValue);\n",
              "  return Promise.resolve(next.value.promise).then((value) => {\n",
              "    // Cache the last promise value to make it available to the next\n",
              "    // step of the generator.\n",
              "    outputElement.lastPromiseValue = value;\n",
              "    return next.value.response;\n",
              "  });\n",
              "}\n",
              "\n",
              "/**\n",
              " * Generator function which is called between each async step of the upload\n",
              " * process.\n",
              " * @param {string} inputId Element ID of the input file picker element.\n",
              " * @param {string} outputId Element ID of the output display.\n",
              " * @return {!Iterable<!Object>} Iterable of next steps.\n",
              " */\n",
              "function* uploadFilesStep(inputId, outputId) {\n",
              "  const inputElement = document.getElementById(inputId);\n",
              "  inputElement.disabled = false;\n",
              "\n",
              "  const outputElement = document.getElementById(outputId);\n",
              "  outputElement.innerHTML = '';\n",
              "\n",
              "  const pickedPromise = new Promise((resolve) => {\n",
              "    inputElement.addEventListener('change', (e) => {\n",
              "      resolve(e.target.files);\n",
              "    });\n",
              "  });\n",
              "\n",
              "  const cancel = document.createElement('button');\n",
              "  inputElement.parentElement.appendChild(cancel);\n",
              "  cancel.textContent = 'Cancel upload';\n",
              "  const cancelPromise = new Promise((resolve) => {\n",
              "    cancel.onclick = () => {\n",
              "      resolve(null);\n",
              "    };\n",
              "  });\n",
              "\n",
              "  // Wait for the user to pick the files.\n",
              "  const files = yield {\n",
              "    promise: Promise.race([pickedPromise, cancelPromise]),\n",
              "    response: {\n",
              "      action: 'starting',\n",
              "    }\n",
              "  };\n",
              "\n",
              "  cancel.remove();\n",
              "\n",
              "  // Disable the input element since further picks are not allowed.\n",
              "  inputElement.disabled = true;\n",
              "\n",
              "  if (!files) {\n",
              "    return {\n",
              "      response: {\n",
              "        action: 'complete',\n",
              "      }\n",
              "    };\n",
              "  }\n",
              "\n",
              "  for (const file of files) {\n",
              "    const li = document.createElement('li');\n",
              "    li.append(span(file.name, {fontWeight: 'bold'}));\n",
              "    li.append(span(\n",
              "        `(${file.type || 'n/a'}) - ${file.size} bytes, ` +\n",
              "        `last modified: ${\n",
              "            file.lastModifiedDate ? file.lastModifiedDate.toLocaleDateString() :\n",
              "                                    'n/a'} - `));\n",
              "    const percent = span('0% done');\n",
              "    li.appendChild(percent);\n",
              "\n",
              "    outputElement.appendChild(li);\n",
              "\n",
              "    const fileDataPromise = new Promise((resolve) => {\n",
              "      const reader = new FileReader();\n",
              "      reader.onload = (e) => {\n",
              "        resolve(e.target.result);\n",
              "      };\n",
              "      reader.readAsArrayBuffer(file);\n",
              "    });\n",
              "    // Wait for the data to be ready.\n",
              "    let fileData = yield {\n",
              "      promise: fileDataPromise,\n",
              "      response: {\n",
              "        action: 'continue',\n",
              "      }\n",
              "    };\n",
              "\n",
              "    // Use a chunked sending to avoid message size limits. See b/62115660.\n",
              "    let position = 0;\n",
              "    do {\n",
              "      const length = Math.min(fileData.byteLength - position, MAX_PAYLOAD_SIZE);\n",
              "      const chunk = new Uint8Array(fileData, position, length);\n",
              "      position += length;\n",
              "\n",
              "      const base64 = btoa(String.fromCharCode.apply(null, chunk));\n",
              "      yield {\n",
              "        response: {\n",
              "          action: 'append',\n",
              "          file: file.name,\n",
              "          data: base64,\n",
              "        },\n",
              "      };\n",
              "\n",
              "      let percentDone = fileData.byteLength === 0 ?\n",
              "          100 :\n",
              "          Math.round((position / fileData.byteLength) * 100);\n",
              "      percent.textContent = `${percentDone}% done`;\n",
              "\n",
              "    } while (position < fileData.byteLength);\n",
              "  }\n",
              "\n",
              "  // All done.\n",
              "  yield {\n",
              "    response: {\n",
              "      action: 'complete',\n",
              "    }\n",
              "  };\n",
              "}\n",
              "\n",
              "scope.google = scope.google || {};\n",
              "scope.google.colab = scope.google.colab || {};\n",
              "scope.google.colab._files = {\n",
              "  _uploadFiles,\n",
              "  _uploadFilesContinue,\n",
              "};\n",
              "})(self);\n",
              "</script> "
            ],
            "text/plain": [
              "<IPython.core.display.HTML object>"
            ]
          },
          "metadata": {},
          "output_type": "display_data"
        }
      ],
      "source": [
        "from google.colab import files\n",
        "\n",
        "uploded = files.upload()\n",
        "\n",
        "Drugs = pd.read_csv('Drug_ConsumptionProject.csv')"
      ]
    },
    {
      "cell_type": "code",
      "execution_count": null,
      "metadata": {
        "id": "sjaPXrXftaSh"
      },
      "outputs": [],
      "source": [
        "#Data inspection and cleaning "
      ]
    },
    {
      "cell_type": "code",
      "execution_count": null,
      "metadata": {
        "id": "qh1RGnJatfXA"
      },
      "outputs": [],
      "source": [
        "Drugs.columns = ['ID','Age (Real)','Gender (Real)','Education (Real)','Country (Real)','Ethnicity (Real)','Nscore (Real)','Escore (Real)','Oscore (Real)','Ascore (Real)','Cscore (Real)','Impulsive (Real)','SS (Real)','Alcohol','Amphet','Amyl','Benzos','Caff','Cannabis','Choc','Coke','Crack','Ecstasy','Heroin','Ketamine','Legalh','LSD','Meth','Mushrooms','Nicotine','Semer','VSA']"
      ]
    },
    {
      "cell_type": "code",
      "execution_count": null,
      "metadata": {
        "id": "GnyfzGi6thYc"
      },
      "outputs": [],
      "source": [
        "Drugs.info()"
      ]
    },
    {
      "cell_type": "code",
      "execution_count": null,
      "metadata": {
        "id": "yYR5-I-Ntlls"
      },
      "outputs": [],
      "source": [
        "Drugs.drop('ID',axis=1,inplace=True)\n",
        "Drugs.head()"
      ]
    },
    {
      "cell_type": "code",
      "execution_count": null,
      "metadata": {
        "id": "9ipT_6xltqrO"
      },
      "outputs": [],
      "source": [
        "temp = Drugs.columns\n",
        "temp = temp[12:]\n",
        "for i in temp:\n",
        "    Drugs[i] = Drugs[i].map({'CL0':0,'CL1':1,'CL2':2,'CL3':3,'CL4':4,'CL5':5,'CL6':6})"
      ]
    },
    {
      "cell_type": "code",
      "execution_count": null,
      "metadata": {
        "id": "y7e04PRzty4L"
      },
      "outputs": [],
      "source": [
        "Drugs.head()"
      ]
    },
    {
      "cell_type": "code",
      "execution_count": null,
      "metadata": {
        "id": "miwCgc_ut0Pw"
      },
      "outputs": [],
      "source": [
        "Drugs.info()"
      ]
    },
    {
      "cell_type": "code",
      "execution_count": null,
      "metadata": {
        "id": "4Fo_e1Szt7e8"
      },
      "outputs": [],
      "source": [
        "#EDA"
      ]
    },
    {
      "cell_type": "code",
      "execution_count": null,
      "metadata": {
        "id": "AITcthGFt8mR"
      },
      "outputs": [],
      "source": [
        "plt.figure(figsize=(20,15))\n",
        "sns.heatmap(Drugs.drop(['Age (Real)','Gender (Real)','Education (Real)','Country (Real)','Ethnicity (Real)'],axis=1).corr(),annot=True)\n",
        "plt.title('Heatmap of Variable Correlations')\n",
        "plt.show()"
      ]
    },
    {
      "cell_type": "code",
      "execution_count": null,
      "metadata": {
        "id": "jhB2foFXuCDI"
      },
      "outputs": [],
      "source": [
        "#As we can see an Openess to experience has higher correlations with drug us. \n",
        "#Conscientiousness has mostly negative coreelations with most drug use as expected. \n",
        "#The next highest persona trait that has correlations with drug use on a broad scale is Neuroticism. \n",
        "#Implusiveness and Sensation seeing are also high predictors of drug use. \n",
        "\n",
        "#Neurotics have correlations with the drugs benzos and meth.\n",
        "#Openess has high correlations with cannabis, LSD and mushrooms. \n",
        "#Conscientiousness has the lowest negative correlations with Achohol and chocolate and highest negative correlations \n",
        "#with Cannabis, amphet, legal highs and Nicotine. \n",
        "\n",
        "#Between the drugs themseves there are correlations. \n",
        "#High correlations of LSD with mushrooms, coke and ecstasy, mushrooms and cannabis. "
      ]
    },
    {
      "cell_type": "code",
      "execution_count": null,
      "metadata": {
        "id": "qwjWty0SuPjh"
      },
      "outputs": [],
      "source": [
        "plt.figure(figsize=(20,15))\n",
        "sns.heatmap(Drugs.drop(['Nscore (Real)','Escore (Real)','Oscore (Real)','Ascore (Real)','Cscore (Real)','Impulsive (Real)','SS (Real)'],axis=1).corr(),annot=True)\n",
        "plt.title('Heatmap of Variable Correlations')\n",
        "plt.show()\n"
      ]
    },
    {
      "cell_type": "code",
      "execution_count": null,
      "metadata": {
        "id": "5mQvsjeQuTvO"
      },
      "outputs": [],
      "source": [
        "#Age has high negative correlations with legal highs, cannabis and ecstasy. \n",
        "#Gender(male<female) has negative correlations with most drug use especially legal highs and cannabis. \n",
        "#Education has 1 positive correlation with achohol and negative correlations with cannabis and nicotine. \n",
        "\n",
        "#These were the only ordered categorical variables present. "
      ]
    },
    {
      "cell_type": "code",
      "execution_count": null,
      "metadata": {
        "id": "ovWZ87eJuU5t"
      },
      "outputs": [],
      "source": [
        "#Plotting only a correlation heatmap since the vairables have been scaled and hence nothing can be intepreted from the plots \n",
        "#except correlations. "
      ]
    },
    {
      "cell_type": "code",
      "execution_count": null,
      "metadata": {
        "id": "GoWGrTnOuYdr"
      },
      "outputs": [],
      "source": [
        "#Now working on the un quantified data. "
      ]
    },
    {
      "cell_type": "code",
      "execution_count": null,
      "metadata": {
        "id": "5vOhCJVPugIx"
      },
      "outputs": [],
      "source": [
        "from google.colab import files\n",
        "\n",
        "uploded = files.upload()\n",
        "\n",
        "Drugs = pd.read_csv('Drug_ConsumptionProject.csv')"
      ]
    },
    {
      "cell_type": "code",
      "execution_count": null,
      "metadata": {
        "id": "OiBzyE_yuhP2"
      },
      "outputs": [],
      "source": [
        "#Data inspection and cleaning "
      ]
    },
    {
      "cell_type": "code",
      "execution_count": null,
      "metadata": {
        "id": "I9t5tMP3ulP2"
      },
      "outputs": [],
      "source": [
        "Drugs.drop('ID',axis=1,inplace=True)\n",
        "Drugs.info()\n"
      ]
    },
    {
      "cell_type": "code",
      "execution_count": null,
      "metadata": {
        "id": "-4WDTNbPupWV"
      },
      "outputs": [],
      "source": [
        "#Converting the 'CL' categorical variables into a cumulative probability of regular use based on most recent case of use. \n",
        "#This might help model building."
      ]
    },
    {
      "cell_type": "code",
      "execution_count": null,
      "metadata": {
        "id": "iaBGsg-NuxOh"
      },
      "outputs": [],
      "source": [
        "temp = Drugs.columns\n",
        "temp = temp[12:]\n",
        "for i in temp:\n",
        "    Drugs[i] = Drugs[i].map({'CL0':0,'CL1':1/6,'CL2':2/6,'CL3':3/6,'CL4':4/6,'CL5':5/6,'CL6':6/6})"
      ]
    },
    {
      "cell_type": "code",
      "execution_count": null,
      "metadata": {
        "id": "Qq3pMTL6u28Y"
      },
      "outputs": [],
      "source": [
        "Drugs.info()\n"
      ]
    },
    {
      "cell_type": "code",
      "execution_count": null,
      "metadata": {
        "id": "9FIhf88Su68R"
      },
      "outputs": [],
      "source": [
        "#EDA"
      ]
    },
    {
      "cell_type": "code",
      "execution_count": null,
      "metadata": {
        "id": "-f7hFoS2vBt2"
      },
      "outputs": [],
      "source": [
        "plt.figure(figsize=(20,15))\n",
        "sns.lineplot(Drugs.Age, Drugs.Alcohol, label='Alcohol')\n",
        "sns.lineplot(Drugs.Age, Drugs.Amphet, label='Amphet')\n",
        "sns.lineplot(Drugs.Age, Drugs.Amyl, label='Amyl')\n",
        "sns.lineplot(Drugs.Age, Drugs.Benzos, label='Benzos')\n",
        "sns.lineplot(Drugs.Age, Drugs.Caff, label='Caff')\n",
        "sns.lineplot(Drugs.Age, Drugs.Cannabis, label='Cannabis')\n",
        "sns.lineplot(Drugs.Age, Drugs.Choc, label='Choc')\n",
        "sns.lineplot(Drugs.Age, Drugs.Coke, label='Coke')\n",
        "sns.lineplot(Drugs.Age, Drugs.Crack, label='Crack')\n",
        "sns.lineplot(Drugs.Age, Drugs.Ecstasy, label='Ecstasy')\n",
        "sns.lineplot(Drugs.Age, Drugs.Heroin, label='Heroin')\n",
        "sns.lineplot(Drugs.Age, Drugs.Ketamine, label='Ketamine')\n",
        "sns.lineplot(Drugs.Age, Drugs.Legalh, label='Legalh')\n",
        "sns.lineplot(Drugs.Age, Drugs.LSD, label='LSD')\n",
        "sns.lineplot(Drugs.Age, Drugs.Meth, label='Meth')\n",
        "sns.lineplot(Drugs.Age, Drugs.Mushrooms, label='Mushrooms')\n",
        "sns.lineplot(Drugs.Age, Drugs.Nicotine, label='Nicotine')\n",
        "sns.lineplot(Drugs.Age, Drugs.Semer, label='Semer')\n",
        "sns.lineplot(Drugs.Age, Drugs.VSA, label='VSA')\n",
        "plt.legend(loc='upper left')\n",
        "plt.title('Drugs vs Age')\n",
        "plt.xlabel('Age')\n",
        "plt.ylabel('Drugs')\n",
        "plt.show()\n"
      ]
    },
    {
      "cell_type": "code",
      "execution_count": null,
      "metadata": {
        "id": "2lgdyMb9vIwt"
      },
      "outputs": [],
      "source": []
    },
    {
      "cell_type": "code",
      "execution_count": null,
      "metadata": {
        "id": "nGO8J0GhvQJe"
      },
      "outputs": [],
      "source": [
        "plt.figure(figsize=(20,15))\n",
        "sns.lineplot(Drugs.Gender, Drugs.Alcohol, label='Alcohol')\n",
        "sns.lineplot(Drugs.Gender, Drugs.Amphet, label='Amphet')\n",
        "sns.lineplot(Drugs.Gender, Drugs.Amyl, label='Amyl')\n",
        "sns.lineplot(Drugs.Gender, Drugs.Benzos, label='Benzos')\n",
        "sns.lineplot(Drugs.Gender, Drugs.Caff, label='Caff')\n",
        "sns.lineplot(Drugs.Gender, Drugs.Cannabis, label='Cannabis')\n",
        "sns.lineplot(Drugs.Gender, Drugs.Choc, label='Choc')\n",
        "sns.lineplot(Drugs.Gender, Drugs.Coke, label='Coke')\n",
        "sns.lineplot(Drugs.Gender, Drugs.Crack, label='Crack')\n",
        "sns.lineplot(Drugs.Gender, Drugs.Ecstasy, label='Ecstasy')\n",
        "sns.lineplot(Drugs.Gender, Drugs.Heroin, label='Heroin')\n",
        "sns.lineplot(Drugs.Gender, Drugs.Ketamine, label='Ketamine')\n",
        "sns.lineplot(Drugs.Gender, Drugs.Legalh, label='Legalh')\n",
        "sns.lineplot(Drugs.Gender, Drugs.LSD, label='LSD')\n",
        "sns.lineplot(Drugs.Gender, Drugs.Meth, label='Meth')\n",
        "sns.lineplot(Drugs.Gender, Drugs.Mushrooms, label='Mushrooms')\n",
        "sns.lineplot(Drugs.Gender, Drugs.Nicotine, label='Nicotine')\n",
        "sns.lineplot(Drugs.Gender, Drugs.Semer, label='Semer')\n",
        "sns.lineplot(Drugs.Gender, Drugs.VSA, label='VSA')\n",
        "plt.legend(loc='upper left')\n",
        "plt.title('Drugs vs Gender')\n",
        "plt.xlabel('Gender')\n",
        "plt.ylabel('Drugs')\n",
        "plt.show()"
      ]
    },
    {
      "cell_type": "code",
      "execution_count": null,
      "metadata": {
        "id": "teqxYNIJvRqW"
      },
      "outputs": [],
      "source": [
        "plt.figure(figsize=(20,15))\n",
        "sns.lineplot(Drugs.Ethnicity, Drugs.Alcohol, label='Alcohol')\n",
        "sns.lineplot(Drugs.Ethnicity, Drugs.Amphet, label='Amphet')\n",
        "sns.lineplot(Drugs.Ethnicity, Drugs.Amyl, label='Amyl')\n",
        "sns.lineplot(Drugs.Ethnicity, Drugs.Benzos, label='Benzos')\n",
        "sns.lineplot(Drugs.Ethnicity, Drugs.Caff, label='Caff')\n",
        "sns.lineplot(Drugs.Ethnicity, Drugs.Cannabis, label='Cannabis')\n",
        "sns.lineplot(Drugs.Ethnicity, Drugs.Choc, label='Choc')\n",
        "sns.lineplot(Drugs.Ethnicity, Drugs.Coke, label='Coke')\n",
        "sns.lineplot(Drugs.Ethnicity, Drugs.Crack, label='Crack')\n",
        "sns.lineplot(Drugs.Ethnicity, Drugs.Ecstasy, label='Ecstasy')\n",
        "sns.lineplot(Drugs.Ethnicity, Drugs.Heroin, label='Heroin')\n",
        "sns.lineplot(Drugs.Ethnicity, Drugs.Ketamine, label='Ketamine')\n",
        "sns.lineplot(Drugs.Ethnicity, Drugs.Legalh, label='Legalh')\n",
        "sns.lineplot(Drugs.Ethnicity, Drugs.LSD, label='LSD')\n",
        "sns.lineplot(Drugs.Ethnicity, Drugs.Meth, label='Meth')\n",
        "sns.lineplot(Drugs.Ethnicity, Drugs.Mushrooms, label='Mushrooms')\n",
        "sns.lineplot(Drugs.Ethnicity, Drugs.Nicotine, label='Nicotine')\n",
        "sns.lineplot(Drugs.Ethnicity, Drugs.Semer, label='Semer')\n",
        "sns.lineplot(Drugs.Ethnicity, Drugs.VSA, label='VSA')\n",
        "plt.legend(loc='upper left')\n",
        "plt.title('Drugs vs Ethnicity')\n",
        "plt.xlabel('Ethnicity')\n",
        "plt.ylabel('Drugs')\n",
        "plt.show()"
      ]
    },
    {
      "cell_type": "code",
      "execution_count": null,
      "metadata": {
        "id": "XjQih7OWvZeT"
      },
      "outputs": [],
      "source": [
        "#As we can see these plots are very chaotic and nothing of importance can be obtained from them. "
      ]
    },
    {
      "cell_type": "code",
      "execution_count": null,
      "metadata": {
        "id": "SbfpOIG5vd6-"
      },
      "outputs": [],
      "source": [
        "Drugs['Education'].value_counts()"
      ]
    },
    {
      "cell_type": "code",
      "execution_count": null,
      "metadata": {
        "id": "GIaKlMaTvjI5"
      },
      "outputs": [],
      "source": [
        "Drugs['Age'] = Drugs['Age'].map({'18-24':1,'25-34':2,'35-44':3,'45-54':4,'55-64':5,'65+':6})\n",
        "Drugs['Gender'] = Drugs['Gender'].map({'M':1,'F':0})\n",
        "Drugs['Education'] = Drugs['Education'].map({'Left school before 16 years':1,'Left school at 16 years':2,'Left school at 17 years':3,'Left school at 18 years':4,'Some college or university, no certificate or degree':5,'Professional certificate/ diploma':6,'University degree':7,'Masters degree':8,'Doctorate degree':9})"
      ]
    },
    {
      "cell_type": "code",
      "execution_count": null,
      "metadata": {
        "id": "oJDQJdvCvs-K"
      },
      "outputs": [],
      "source": [
        "plt.figure(figsize=(20,15))\n",
        "sns.lineplot(Drugs.Education, Drugs.Alcohol, label='Alcohol')\n",
        "sns.lineplot(Drugs.Education, Drugs.Amphet, label='Amphet')\n",
        "sns.lineplot(Drugs.Education, Drugs.Amyl, label='Amyl')\n",
        "sns.lineplot(Drugs.Education, Drugs.Benzos, label='Benzos')\n",
        "sns.lineplot(Drugs.Education, Drugs.Caff, label='Caff')\n",
        "sns.lineplot(Drugs.Education, Drugs.Cannabis, label='Cannabis')\n",
        "sns.lineplot(Drugs.Education, Drugs.Choc, label='Choc')\n",
        "sns.lineplot(Drugs.Education, Drugs.Coke, label='Coke')\n",
        "sns.lineplot(Drugs.Education, Drugs.Crack, label='Crack')\n",
        "sns.lineplot(Drugs.Education, Drugs.Ecstasy, label='Ecstasy')\n",
        "sns.lineplot(Drugs.Education, Drugs.Heroin, label='Heroin')\n",
        "sns.lineplot(Drugs.Education, Drugs.Ketamine, label='Ketamine')\n",
        "sns.lineplot(Drugs.Education, Drugs.Legalh, label='Legalh')\n",
        "sns.lineplot(Drugs.Education, Drugs.LSD, label='LSD')\n",
        "sns.lineplot(Drugs.Education, Drugs.Meth, label='Meth')\n",
        "sns.lineplot(Drugs.Education, Drugs.Mushrooms, label='Mushrooms')\n",
        "sns.lineplot(Drugs.Education, Drugs.Nicotine, label='Nicotine')\n",
        "sns.lineplot(Drugs.Education, Drugs.Semer, label='Semer')\n",
        "sns.lineplot(Drugs.Education, Drugs.VSA, label='VSA')\n",
        "plt.legend(loc='upper left')\n",
        "plt.title('Drugs vs Education')\n",
        "plt.xlabel('Education')\n",
        "plt.ylabel('Drugs')\n",
        "plt.show()"
      ]
    },
    {
      "cell_type": "code",
      "execution_count": null,
      "metadata": {
        "id": "lqX5AoJjvt-w"
      },
      "outputs": [],
      "source": [
        "plt.figure(figsize=(20,15))\n",
        "sns.lineplot(Drugs.Country, Drugs.Alcohol, label='Alcohol')\n",
        "sns.lineplot(Drugs.Country, Drugs.Amphet, label='Amphet')\n",
        "sns.lineplot(Drugs.Country, Drugs.Amyl, label='Amyl')\n",
        "sns.lineplot(Drugs.Country, Drugs.Benzos, label='Benzos')\n",
        "sns.lineplot(Drugs.Country, Drugs.Caff, label='Caff')\n",
        "sns.lineplot(Drugs.Country, Drugs.Cannabis, label='Cannabis')\n",
        "sns.lineplot(Drugs.Country, Drugs.Choc, label='Choc')\n",
        "sns.lineplot(Drugs.Country, Drugs.Coke, label='Coke')\n",
        "sns.lineplot(Drugs.Country, Drugs.Crack, label='Crack')\n",
        "sns.lineplot(Drugs.Country, Drugs.Ecstasy, label='Ecstasy')\n",
        "sns.lineplot(Drugs.Country, Drugs.Heroin, label='Heroin')\n",
        "sns.lineplot(Drugs.Country, Drugs.Ketamine, label='Ketamine')\n",
        "sns.lineplot(Drugs.Country, Drugs.Legalh, label='Legalh')\n",
        "sns.lineplot(Drugs.Country, Drugs.LSD, label='LSD')\n",
        "sns.lineplot(Drugs.Country, Drugs.Meth, label='Meth')\n",
        "sns.lineplot(Drugs.Country, Drugs.Mushrooms, label='Mushrooms')\n",
        "sns.lineplot(Drugs.Country, Drugs.Nicotine, label='Nicotine')\n",
        "sns.lineplot(Drugs.Country, Drugs.Semer, label='Semer')\n",
        "sns.lineplot(Drugs.Country, Drugs.VSA, label='VSA')\n",
        "plt.legend(loc='upper left')\n",
        "plt.title('Drugs vs Country')\n",
        "plt.xlabel('Country')\n",
        "plt.ylabel('Drugs')\n",
        "plt.show()"
      ]
    },
    {
      "cell_type": "code",
      "execution_count": null,
      "metadata": {
        "id": "JZHTs6PtvzX1"
      },
      "outputs": [],
      "source": [
        "drugs = list(Drugs.columns)[12:31]\n",
        "len(drugs)"
      ]
    },
    {
      "cell_type": "code",
      "execution_count": null,
      "metadata": {
        "id": "tHHgzprkv8eB"
      },
      "outputs": [],
      "source": [
        "plt.figure(figsize=(15,10))\n",
        "sns.heatmap(Drugs[drugs].corr(),annot=True)\n",
        "plt.title('Heatmap of Drug variable Correlations')\n",
        "plt.show()"
      ]
    },
    {
      "cell_type": "code",
      "execution_count": null,
      "metadata": {
        "id": "UuIlzFesv9cL"
      },
      "outputs": [],
      "source": [
        "#Model building"
      ]
    },
    {
      "cell_type": "code",
      "execution_count": null,
      "metadata": {
        "id": "VvMqzcKFwBop"
      },
      "outputs": [],
      "source": [
        "#We will be building different models for difference drugs types using the same set of independent variables. "
      ]
    },
    {
      "cell_type": "code",
      "execution_count": null,
      "metadata": {
        "id": "OzOdmpGMwEo_"
      },
      "outputs": [],
      "source": [
        "#First we will convert the probability based target variables into categorical variables by binning them into 2 categories. \n",
        "#Have tried using regression model to model the probablistic data earlier and was not sucessfull. "
      ]
    },
    {
      "cell_type": "code",
      "execution_count": null,
      "metadata": {
        "id": "g8dS42fmwKRf"
      },
      "outputs": [],
      "source": [
        "Drugs[drugs].describe()"
      ]
    },
    {
      "cell_type": "code",
      "execution_count": null,
      "metadata": {
        "id": "XJCT9bhlwPA4"
      },
      "outputs": [],
      "source": [
        "Drugs_Prediction = Drugs.copy()\n",
        "drugs.remove('Semer')\n",
        "for i in drugs:\n",
        "    Drugs_Prediction[i] = Drugs_Prediction[i].apply(lambda x: 1 if x>=0.833 else 0)\n",
        "drugs = drugs+['Semer']\n",
        "Drugs_Prediction['Semer'] = Drugs_Prediction['Semer'].apply(lambda x: 1 if x>=0.5 else 0)\n",
        "Drugs_Prediction[drugs].head()"
      ]
    },
    {
      "cell_type": "code",
      "execution_count": null,
      "metadata": {
        "id": "Wh-0v8bMwVnq"
      },
      "outputs": [],
      "source": [
        "len(drugs)"
      ]
    },
    {
      "cell_type": "code",
      "execution_count": null,
      "metadata": {
        "id": "wzN7gdQfwbqC"
      },
      "outputs": [],
      "source": [
        "#We have chosen a cutoff of 0.66 as corresponding the having done the drug in the last week. For the drug Semer however we have \n",
        "#choosen a cutoff of 0.5 since the highest values in that variable are very low. "
      ]
    },
    {
      "cell_type": "code",
      "execution_count": null,
      "metadata": {
        "id": "ECRdV6O0wgHX"
      },
      "outputs": [],
      "source": [
        "Drugs_Prediction.head()"
      ]
    },
    {
      "cell_type": "code",
      "execution_count": null,
      "metadata": {
        "id": "e8pBrTzOwkJt"
      },
      "outputs": [],
      "source": [
        "Drugs_Prediction.info()"
      ]
    },
    {
      "cell_type": "code",
      "execution_count": null,
      "metadata": {
        "id": "cszGF-pawutL"
      },
      "outputs": [],
      "source": [
        "\n",
        "Drugs_Prediction['Ethnicity'].value_counts()"
      ]
    },
    {
      "cell_type": "code",
      "execution_count": null,
      "metadata": {
        "id": "TJzz3Ypbw7SM"
      },
      "outputs": [],
      "source": [
        "#Not dropping the first variable when creating dummies since I want to be able to check all the variable importances."
      ]
    },
    {
      "cell_type": "code",
      "execution_count": null,
      "metadata": {
        "id": "HtJkh6kMw_p7"
      },
      "outputs": [],
      "source": [
        "temp = pd.get_dummies(Drugs_Prediction['Country'],drop_first=False)\n",
        "Drugs_Prediction = pd.concat([Drugs_Prediction,temp],axis=1)\n",
        "Drugs_Prediction.drop('Country',axis=1,inplace=True)\n",
        "\n",
        "temp = pd.get_dummies(Drugs_Prediction['Ethnicity'],drop_first=False)\n",
        "Drugs_Prediction = pd.concat([Drugs_Prediction,temp],axis=1)\n",
        "Drugs_Prediction.drop('Ethnicity',axis=1,inplace=True)"
      ]
    },
    {
      "cell_type": "code",
      "execution_count": null,
      "metadata": {
        "id": "_ySdit69xFBK"
      },
      "outputs": [],
      "source": [
        "Drugs_Prediction.head()"
      ]
    },
    {
      "cell_type": "code",
      "execution_count": null,
      "metadata": {
        "id": "8b8CDG2XxLz0"
      },
      "outputs": [],
      "source": [
        "Drugs_Prediction.info(verbose=True)"
      ]
    },
    {
      "cell_type": "code",
      "execution_count": null,
      "metadata": {
        "id": "QS0n2R3ExZRE"
      },
      "outputs": [],
      "source": [
        "from sklearn.ensemble import RandomForestClassifier\n",
        "from sklearn.model_selection import train_test_split, GridSearchCV\n",
        "from sklearn.metrics import accuracy_score"
      ]
    },
    {
      "cell_type": "code",
      "execution_count": null,
      "metadata": {
        "id": "9J_mCWnRxjs2"
      },
      "outputs": [],
      "source": [
        "Scoring = pd.DataFrame(columns=['Drug','Train_score','Test_score'])\n",
        "Feature_importance = pd.DataFrame(columns=['Feature'])"
      ]
    },
    {
      "cell_type": "code",
      "execution_count": null,
      "metadata": {
        "id": "O2MwiZdSxrYG"
      },
      "outputs": [],
      "source": [
        "def build_model(drug):\n",
        "    X = Drugs_Prediction.drop(drugs,axis=1)\n",
        "    y = Drugs_Prediction[drug]\n",
        "    X_train, X_test, y_train, y_test = train_test_split(X,y,train_size=0.8,random_state=100)\n",
        "    \n",
        "    Model = RandomForestClassifier(random_state=100,n_jobs=-1,class_weight='balanced')\n",
        "    \n",
        "    params = {'n_estimators':[200],\n",
        "          'min_samples_leaf':[10,30,50,70,90],\n",
        "          'max_depth':[5,10,15,20,25,30],\n",
        "          'max_features':[0.1,0.2,0.3,0.4,0.5,0.6]}\n",
        "    \n",
        "    grid_search = GridSearchCV(estimator=Model,param_grid=params,n_jobs=-1,verbose=1,scoring='accuracy')\n",
        "    grid_search.fit(X_train,y_train)\n",
        "    \n",
        "    Model_best = grid_search.best_estimator_\n",
        "    \n",
        "    y_train_pred = Model_best.predict(X_train)\n",
        "    y_test_pred = Model_best.predict(X_test)\n",
        "    \n",
        "    print('Train_score'+' '+'='+' '+str(accuracy_score(y_train,y_train_pred)))\n",
        "    print('Test_score'+' '+'='+' '+str(accuracy_score(y_test,y_test_pred)))\n",
        "    \n",
        "    Feature_importance['Feature'] = X_train.columns\n",
        "    Feature_importance['Importance_'+drug] = Model_best.feature_importances_"
      ]
    },
    {
      "cell_type": "code",
      "execution_count": null,
      "metadata": {
        "colab": {
          "background_save": true,
          "base_uri": "https://localhost:8080/"
        },
        "id": "xN_ekElfx7uk",
        "outputId": "41ffdab2-155d-42d5-970b-d8ef77c8e8d4"
      },
      "outputs": [
        {
          "name": "stdout",
          "output_type": "stream",
          "text": [
            "Fitting 5 folds for each of 180 candidates, totalling 900 fits\n",
            "Train_score = 0.814200398142004\n",
            "Test_score = 0.623342175066313\n",
            "Fitting 5 folds for each of 180 candidates, totalling 900 fits\n",
            "Train_score = 0.9276708692767087\n",
            "Test_score = 0.8222811671087533\n",
            "Fitting 5 folds for each of 180 candidates, totalling 900 fits\n",
            "Train_score = 1.0\n",
            "Test_score = 0.9920424403183024\n",
            "Fitting 5 folds for each of 180 candidates, totalling 900 fits\n",
            "Train_score = 0.8964830789648308\n",
            "Test_score = 0.8275862068965517\n",
            "Fitting 5 folds for each of 180 candidates, totalling 900 fits\n",
            "Train_score = 0.9781021897810219\n",
            "Test_score = 0.843501326259947\n",
            "Fitting 5 folds for each of 180 candidates, totalling 900 fits\n",
            "Train_score = 0.8195089581950896\n",
            "Test_score = 0.7639257294429708\n",
            "Fitting 5 folds for each of 180 candidates, totalling 900 fits\n",
            "Train_score = 0.9084273390842734\n",
            "Test_score = 0.713527851458886\n",
            "Fitting 5 folds for each of 180 candidates, totalling 900 fits\n",
            "Train_score = 0.9980092899800929\n",
            "Test_score = 0.9416445623342176\n",
            "Fitting 5 folds for each of 180 candidates, totalling 900 fits\n",
            "Train_score = 0.9986728599867286\n",
            "Test_score = 0.9946949602122016\n",
            "Fitting 5 folds for each of 180 candidates, totalling 900 fits\n",
            "Train_score = 0.966821499668215\n",
            "Test_score = 0.8938992042440318\n",
            "Fitting 5 folds for each of 180 candidates, totalling 900 fits\n",
            "Train_score = 0.9946914399469144\n",
            "Test_score = 0.9708222811671088\n",
            "Fitting 5 folds for each of 180 candidates, totalling 900 fits\n",
            "Train_score = 0.9993364299933643\n",
            "Test_score = 0.9575596816976127\n",
            "Fitting 5 folds for each of 180 candidates, totalling 900 fits\n",
            "Train_score = 0.946914399469144\n",
            "Test_score = 0.8594164456233422\n",
            "Fitting 5 folds for each of 180 candidates, totalling 900 fits\n",
            "Train_score = 0.9495686794956868\n",
            "Test_score = 0.8779840848806366\n",
            "Fitting 5 folds for each of 180 candidates, totalling 900 fits\n",
            "Train_score = 0.9422694094226941\n",
            "Test_score = 0.8567639257294429\n",
            "Fitting 5 folds for each of 180 candidates, totalling 900 fits\n",
            "Train_score = 0.9893828798938288\n",
            "Test_score = 0.9602122015915119\n",
            "Fitting 5 folds for each of 180 candidates, totalling 900 fits\n",
            "Train_score = 0.7153284671532847\n",
            "Test_score = 0.6419098143236074\n",
            "Fitting 5 folds for each of 180 candidates, totalling 900 fits\n",
            "Train_score = 1.0\n",
            "Test_score = 0.986737400530504\n",
            "Fitting 5 folds for each of 180 candidates, totalling 900 fits\n",
            "Train_score = 1.0\n",
            "Test_score = 1.0\n"
          ]
        }
      ],
      "source": [
        "for drug in drugs:\n",
        "    build_model(drug)"
      ]
    },
    {
      "cell_type": "code",
      "execution_count": null,
      "metadata": {
        "id": "EIjyK-SAyAev"
      },
      "outputs": [],
      "source": [
        "Feature_importance.set_index('Feature',inplace=True)\n",
        "Feature_importance.head()"
      ]
    },
    {
      "cell_type": "code",
      "execution_count": null,
      "metadata": {
        "id": "sXlPyFb6yH0V"
      },
      "outputs": [],
      "source": [
        "plt.figure(figsize=(15,10))\n",
        "sns.heatmap(Feature_importance,annot=True)\n",
        "plt.title('Heatmap of Feature Importances')\n",
        "plt.show()"
      ]
    },
    {
      "cell_type": "code",
      "execution_count": null,
      "metadata": {
        "id": "Wcyh4NV8yMwo"
      },
      "outputs": [],
      "source": [
        "#As we can see the R-squared scores for most of the drug models are pretty bad. Hence we will now try Gradient Boosting"
      ]
    },
    {
      "cell_type": "code",
      "execution_count": null,
      "metadata": {
        "id": "0JuyP5F1yT-v"
      },
      "outputs": [],
      "source": [
        "from sklearn.ensemble import GradientBoostingClassifier"
      ]
    },
    {
      "cell_type": "code",
      "execution_count": null,
      "metadata": {
        "id": "ffFvVkycyYRb"
      },
      "outputs": [],
      "source": [
        "Scoring = pd.DataFrame(columns=['Drug','Train_score','Test_score'])\n",
        "Feature_importance = pd.DataFrame(columns=['Feature'])"
      ]
    },
    {
      "cell_type": "code",
      "execution_count": null,
      "metadata": {
        "id": "zM7JPdwCydnF"
      },
      "outputs": [],
      "source": [
        "def build_model(drug):\n",
        "    X = Drugs_Prediction.drop(drugs,axis=1)\n",
        "    y = Drugs_Prediction[drug]\n",
        "    X_train, X_test, y_train, y_test = train_test_split(X,y,train_size=0.8,random_state=100)\n",
        "    \n",
        "    Model = GradientBoostingClassifier(random_state=100)\n",
        "    \n",
        "    params = {'learning_rate':[0.1,0.2,0.3,0.4,0.5],\n",
        "          'min_samples_leaf':[10,30,50,70,90],\n",
        "          'max_depth':[5,10,15,20,25,30],\n",
        "          'max_features':[0.1,0.2,0.3,0.4,0.5,0.6]}\n",
        "    \n",
        "    grid_search = GridSearchCV(estimator=Model,param_grid=params,n_jobs=-1,verbose=1,scoring='accuracy')\n",
        "    grid_search.fit(X_train,y_train)\n",
        "    \n",
        "    Model_best = grid_search.best_estimator_\n",
        "    \n",
        "    y_train_pred = Model_best.predict(X_train)\n",
        "    y_test_pred = Model_best.predict(X_test)\n",
        "    \n",
        "    print('Train_score'+' '+'='+' '+str(accuracy_score(y_train,y_train_pred)))\n",
        "    print('Test_score'+' '+'='+' '+str(accuracy_score(y_test,y_test_pred)))\n",
        "    \n",
        "    Feature_importance['Feature'] = X_train.columns\n",
        "    Feature_importance['Importance_'+drug] = Model_best.feature_importances_"
      ]
    },
    {
      "cell_type": "code",
      "execution_count": null,
      "metadata": {
        "id": "varV9L0pyohE"
      },
      "outputs": [],
      "source": [
        "for drug in drugs:\n",
        "    build_model(drug)"
      ]
    },
    {
      "cell_type": "code",
      "execution_count": null,
      "metadata": {
        "id": "Du_g3-xTypYx"
      },
      "outputs": [],
      "source": [
        "Feature_importance.set_index('Feature',inplace=True)\n",
        "Feature_importance.head()"
      ]
    },
    {
      "cell_type": "code",
      "execution_count": null,
      "metadata": {
        "id": "HJtuTEHjyvmA"
      },
      "outputs": [],
      "source": [
        "plt.figure(figsize=(15,10))\n",
        "sns.heatmap(Feature_importance,annot=True)\n",
        "plt.title('Heatmap of Feature Importances')\n",
        "plt.show()"
      ]
    },
    {
      "cell_type": "code",
      "execution_count": null,
      "metadata": {
        "id": "mNEPFZQDy4Mj"
      },
      "outputs": [],
      "source": [
        "#There arent too many improvements using gradient boosting. "
      ]
    },
    {
      "cell_type": "code",
      "execution_count": null,
      "metadata": {
        "id": "Vs_g2Dvby-Yw"
      },
      "outputs": [],
      "source": [
        "#We will now try to cluster the drugs based on their correlations with the Personality score variables. "
      ]
    },
    {
      "cell_type": "code",
      "execution_count": null,
      "metadata": {
        "id": "gTQ4R8gXzDJp"
      },
      "outputs": [],
      "source": [
        "Drugs.head()"
      ]
    },
    {
      "cell_type": "code",
      "execution_count": null,
      "metadata": {
        "id": "8LBWSFxAzG2C"
      },
      "outputs": [],
      "source": [
        "temp = pd.get_dummies(Drugs['Country'],drop_first=False)\n",
        "Drugs = pd.concat([Drugs,temp],axis=1)\n",
        "Drugs.drop('Country',axis=1,inplace=True)\n",
        "\n",
        "temp = pd.get_dummies(Drugs['Ethnicity'],drop_first=False)\n",
        "Drugs = pd.concat([Drugs,temp],axis=1)\n",
        "Drugs.drop('Ethnicity',axis=1,inplace=True)"
      ]
    },
    {
      "cell_type": "code",
      "execution_count": null,
      "metadata": {
        "id": "SneMG4WgzLUD"
      },
      "outputs": [],
      "source": [
        "Drugs.head()"
      ]
    },
    {
      "cell_type": "code",
      "execution_count": null,
      "metadata": {
        "id": "knRP6CKgzOw5"
      },
      "outputs": [],
      "source": [
        "Drugs_Correlations = Drugs.corr()\n",
        "Drugs_Correlations = Drugs_Correlations.loc['Alcohol':'VSA']\n",
        "Drugs_Correlations.drop(drugs,axis=1,inplace=True)\n",
        "Drugs_Correlations.head()"
      ]
    },
    {
      "cell_type": "code",
      "execution_count": null,
      "metadata": {
        "id": "NZVtNPJizSRy"
      },
      "outputs": [],
      "source": [
        "Drugs_Correlations.info()"
      ]
    },
    {
      "cell_type": "code",
      "execution_count": null,
      "metadata": {
        "id": "r8q4oZuSzVr8"
      },
      "outputs": [],
      "source": [
        "#Now that we have the datafame of correlations we can go ahed with the clustering based on them. "
      ]
    },
    {
      "cell_type": "code",
      "execution_count": null,
      "metadata": {
        "id": "phhZEepxzbMy"
      },
      "outputs": [],
      "source": [
        "from sklearn.preprocessing import StandardScaler"
      ]
    },
    {
      "cell_type": "code",
      "execution_count": null,
      "metadata": {
        "id": "6l_3j4uUzfwE"
      },
      "outputs": [],
      "source": [
        "col = Drugs_Correlations.columns\n",
        "scaler = StandardScaler()\n",
        "Drugs_Correlations_clust = scaler.fit_transform(Drugs_Correlations)\n",
        "Drugs_Correlations_clust = pd.DataFrame(Drugs_Correlations,columns=col)\n",
        "Drugs_Correlations_clust.head()"
      ]
    },
    {
      "cell_type": "code",
      "execution_count": null,
      "metadata": {
        "id": "NsgihKeWzobJ"
      },
      "outputs": [],
      "source": [
        "from sklearn.neighbors import NearestNeighbors\n",
        "from random import sample\n",
        "from numpy.random import uniform\n",
        "import numpy as np\n",
        "from math import isnan\n",
        " \n",
        "def hopkins(X):\n",
        "    d = X.shape[1]\n",
        "    #d = len(vars) # columns\n",
        "    n = len(X) # rows\n",
        "    m = int(0.1 * n) \n",
        "    nbrs = NearestNeighbors(n_neighbors=1).fit(X.values)\n",
        " \n",
        "    rand_X = sample(range(0, n, 1), m)\n",
        " \n",
        "    ujd = []\n",
        "    wjd = []\n",
        "    for j in range(0, m):\n",
        "        u_dist, _ = nbrs.kneighbors(uniform(np.amin(X,axis=0),np.amax(X,axis=0),d).reshape(1, -1), 2, return_distance=True)\n",
        "        ujd.append(u_dist[0][1])\n",
        "        w_dist, _ = nbrs.kneighbors(X.iloc[rand_X[j]].values.reshape(1, -1), 2, return_distance=True)\n",
        "        wjd.append(w_dist[0][1])\n",
        " \n",
        "    H = sum(ujd) / (sum(ujd) + sum(wjd))\n",
        "    if isnan(H):\n",
        "        print(ujd, wjd)\n",
        "        H = 0\n",
        " \n",
        "    return H"
      ]
    },
    {
      "cell_type": "code",
      "execution_count": null,
      "metadata": {
        "id": "ogT8Qendzwyw"
      },
      "outputs": [],
      "source": [
        "hopkins(Drugs_Correlations_clust)"
      ]
    },
    {
      "cell_type": "code",
      "execution_count": null,
      "metadata": {
        "id": "GrqIutgDz0wZ"
      },
      "outputs": [],
      "source": [
        "from sklearn.cluster import KMeans\n",
        "from sklearn.metrics import silhouette_score\n",
        "ssd = []\n",
        "range_n_clusters = [2, 3, 4, 5, 6, 7, 8]\n",
        "for num_clusters in range_n_clusters:\n",
        "    kmeans = KMeans(n_clusters=num_clusters, max_iter=50)\n",
        "    kmeans.fit(Drugs_Correlations_clust)\n",
        "    \n",
        "    ssd.append(kmeans.inertia_)\n",
        "    \n",
        "plt.plot(ssd)\n",
        "plt.show()"
      ]
    },
    {
      "cell_type": "code",
      "execution_count": null,
      "metadata": {
        "id": "7ONgTPRqz5hz"
      },
      "outputs": [],
      "source": [
        "range_n_clusters = [2, 3, 4, 5, 6, 7, 8]\n",
        "\n",
        "for num_clusters in range_n_clusters:\n",
        "    \n",
        "    kmeans = KMeans(n_clusters=num_clusters, max_iter=50)\n",
        "    kmeans.fit(Drugs_Correlations_clust)\n",
        "    \n",
        "    cluster_labels = kmeans.labels_\n",
        "    \n",
        "    silhouette_avg = silhouette_score(Drugs_Correlations_clust, cluster_labels)\n",
        "    print(\"For n_clusters={0}, the silhouette score is {1}\".format(num_clusters, silhouette_avg))"
      ]
    },
    {
      "cell_type": "code",
      "execution_count": null,
      "metadata": {
        "id": "izo_wfSo0Aaa"
      },
      "outputs": [],
      "source": [
        "#Clustering the drugs inro 3 clusters"
      ]
    },
    {
      "cell_type": "code",
      "execution_count": null,
      "metadata": {
        "id": "eo8_IRoU0FI7"
      },
      "outputs": [],
      "source": [
        "kmeans = KMeans(n_clusters=3,max_iter=100)\n",
        "kmeans.fit(Drugs_Correlations_clust)"
      ]
    },
    {
      "cell_type": "code",
      "execution_count": null,
      "metadata": {
        "id": "3HQTf5Xr0IlK"
      },
      "outputs": [],
      "source": [
        "Drugs_Correlations['Cluster_ID'] = kmeans.labels_\n",
        "Drugs_Correlations.head()"
      ]
    },
    {
      "cell_type": "code",
      "execution_count": null,
      "metadata": {
        "id": "a4Akhed30MzN"
      },
      "outputs": [],
      "source": [
        "#Plotting the Clusters"
      ]
    },
    {
      "cell_type": "code",
      "execution_count": null,
      "metadata": {
        "id": "oLPX--Ca0RhM"
      },
      "outputs": [],
      "source": [
        "plt.figure(figsize=(20,15))\n",
        "sns.heatmap(Drugs_Correlations,annot=True)\n",
        "plt.title('Heatmap of Drug Correlations as well as the Clusters they Belong to',fontsize=20)\n",
        "plt.show()"
      ]
    },
    {
      "cell_type": "code",
      "execution_count": null,
      "metadata": {
        "id": "fge6UYvR0V5h"
      },
      "outputs": [],
      "source": [
        "#Printing the Clusters"
      ]
    },
    {
      "cell_type": "code",
      "execution_count": null,
      "metadata": {
        "id": "LgjFTf9o0bvc"
      },
      "outputs": [],
      "source": [
        "print('Cluster 1 :', list(Drugs_Correlations[Drugs_Correlations.Cluster_ID == 0].index))\n",
        "print('Cluster 2 :', list(Drugs_Correlations[Drugs_Correlations.Cluster_ID == 1].index))\n",
        "print('Cluster 3 :', list(Drugs_Correlations[Drugs_Correlations.Cluster_ID == 2].index))"
      ]
    },
    {
      "cell_type": "code",
      "execution_count": null,
      "metadata": {
        "id": "tV0j6ywm0iTf"
      },
      "outputs": [],
      "source": [
        "#Now we will again cluster the drugs based solely on their correlations with the Personality type variables."
      ]
    },
    {
      "cell_type": "code",
      "execution_count": null,
      "metadata": {
        "id": "C8JY_37e0mdK"
      },
      "outputs": [],
      "source": [
        "Drugs_Correlations = Drugs_Correlations[['Nscore','Escore','Oscore','AScore','Cscore','Impulsive','SS']]\n",
        "Drugs_Correlations.head()"
      ]
    },
    {
      "cell_type": "code",
      "execution_count": null,
      "metadata": {
        "id": "DauXPBU30ue9"
      },
      "outputs": [],
      "source": [
        "col = Drugs_Correlations.columns\n",
        "scaler = StandardScaler()\n",
        "Drugs_Correlations_clust = scaler.fit_transform(Drugs_Correlations)\n",
        "Drugs_Correlations_clust = pd.DataFrame(Drugs_Correlations,columns=col)\n",
        "Drugs_Correlations_clust.head()"
      ]
    },
    {
      "cell_type": "code",
      "execution_count": null,
      "metadata": {
        "id": "_bBLHdlU0yN1"
      },
      "outputs": [],
      "source": [
        "hopkins(Drugs_Correlations_clust)"
      ]
    },
    {
      "cell_type": "code",
      "execution_count": null,
      "metadata": {
        "id": "QwRYQu7V02nb"
      },
      "outputs": [],
      "source": [
        "from sklearn.cluster import KMeans\n",
        "from sklearn.metrics import silhouette_score\n",
        "ssd = []\n",
        "range_n_clusters = [2, 3, 4, 5, 6, 7, 8]\n",
        "for num_clusters in range_n_clusters:\n",
        "    kmeans = KMeans(n_clusters=num_clusters, max_iter=50)\n",
        "    kmeans.fit(Drugs_Correlations_clust)\n",
        "    \n",
        "    ssd.append(kmeans.inertia_)\n",
        "    \n",
        "plt.plot(ssd)\n",
        "plt.show()"
      ]
    },
    {
      "cell_type": "code",
      "execution_count": null,
      "metadata": {
        "id": "U_luPBRZ07vJ"
      },
      "outputs": [],
      "source": [
        "range_n_clusters = [2, 3, 4, 5, 6, 7, 8]\n",
        "\n",
        "for num_clusters in range_n_clusters:\n",
        "    \n",
        "    kmeans = KMeans(n_clusters=num_clusters, max_iter=50)\n",
        "    kmeans.fit(Drugs_Correlations_clust)\n",
        "    \n",
        "    cluster_labels = kmeans.labels_\n",
        "    \n",
        "    silhouette_avg = silhouette_score(Drugs_Correlations_clust, cluster_labels)\n",
        "    print(\"For n_clusters={0}, the silhouette score is {1}\".format(num_clusters, silhouette_avg))"
      ]
    },
    {
      "cell_type": "code",
      "execution_count": null,
      "metadata": {
        "id": "DqRhdMjL1Bm3"
      },
      "outputs": [],
      "source": [
        "#Clustering the drugs into 3 clusters based on the personality variables. "
      ]
    },
    {
      "cell_type": "code",
      "execution_count": null,
      "metadata": {
        "id": "skavoUER1GdQ"
      },
      "outputs": [],
      "source": [
        "kmeans = KMeans(n_clusters=3,max_iter=100)\n",
        "kmeans.fit(Drugs_Correlations_clust)"
      ]
    },
    {
      "cell_type": "code",
      "execution_count": null,
      "metadata": {
        "id": "csy14CY51KH0"
      },
      "outputs": [],
      "source": [
        "Drugs_Correlations['Cluster_ID'] = kmeans.labels_\n",
        "Drugs_Correlations.head()"
      ]
    },
    {
      "cell_type": "code",
      "execution_count": null,
      "metadata": {
        "id": "jpCfENcq1OUs"
      },
      "outputs": [],
      "source": [
        "#Plotting the Clusters"
      ]
    },
    {
      "cell_type": "code",
      "execution_count": null,
      "metadata": {
        "id": "9DIhKBhz1d2p"
      },
      "outputs": [],
      "source": [
        "plt.figure(figsize=(15,10))\n",
        "sns.heatmap(Drugs_Correlations,annot=True)\n",
        "plt.title('Heatmap of Drug Correlations as well as the Clusters they belong to',fontsize=20)\n",
        "plt.show()"
      ]
    },
    {
      "cell_type": "code",
      "execution_count": null,
      "metadata": {
        "id": "uvulceKE1h1K"
      },
      "outputs": [],
      "source": [
        "plt.figure(figsize=(15,5))\n",
        "sns.scatterplot(x='Nscore',y='Escore',data=Drugs_Correlations,hue='Cluster_ID',palette='deep')\n",
        "plt.title('Extraversion vs Neuroticism vs Clusters')\n",
        "plt.xlabel('Neuroticism')\n",
        "plt.ylabel('Extraversion')\n",
        "plt.show()"
      ]
    },
    {
      "cell_type": "code",
      "execution_count": null,
      "metadata": {
        "id": "LoVKMpus1nLm"
      },
      "outputs": [],
      "source": [
        "plt.figure(figsize=(15,5))\n",
        "sns.scatterplot(x='AScore',y='Cscore',data=Drugs_Correlations,hue='Cluster_ID',palette='deep')\n",
        "plt.title('Conscientiousness vs Agreeableness vs Clusters')\n",
        "plt.xlabel('Agreeableness')\n",
        "plt.ylabel('Conscientiousness')\n",
        "plt.show()"
      ]
    },
    {
      "cell_type": "code",
      "execution_count": null,
      "metadata": {
        "id": "LL9c5idL1yOQ"
      },
      "outputs": [],
      "source": [
        "plt.figure(figsize=(15,5))\n",
        "sns.scatterplot(x='Oscore',y='Cscore',data=Drugs_Correlations,hue='Cluster_ID',palette='deep')\n",
        "plt.title('Conscientiousness vs Openness to experience vs Clusters')\n",
        "plt.xlabel('Openness to experience')\n",
        "plt.ylabel('Conscientiousness')\n",
        "plt.show()\n"
      ]
    },
    {
      "cell_type": "code",
      "execution_count": null,
      "metadata": {
        "id": "fIMk3iaZ1zMN"
      },
      "outputs": [],
      "source": [
        "plt.figure(figsize=(15,5))\n",
        "sns.scatterplot(x='Impulsive',y='SS',data=Drugs_Correlations,hue='Cluster_ID',palette='deep')\n",
        "plt.title('Sensation Sensing vs Impulsiveness vs Clusters')\n",
        "plt.xlabel('Impulsiveness')\n",
        "plt.ylabel('Sensation Sensing')\n",
        "plt.show()"
      ]
    },
    {
      "cell_type": "code",
      "execution_count": null,
      "metadata": {
        "id": "sTMcEyO-1_cF"
      },
      "outputs": [],
      "source": [
        "#Printing the Clusters"
      ]
    },
    {
      "cell_type": "code",
      "execution_count": null,
      "metadata": {
        "id": "7jdnjV212Ald"
      },
      "outputs": [],
      "source": [
        "print('Cluster 1 :', list(Drugs_Correlations[Drugs_Correlations.Cluster_ID == 0].index))\n",
        "print('Cluster 2 :', list(Drugs_Correlations[Drugs_Correlations.Cluster_ID == 1].index))\n",
        "print('Cluster 3 :', list(Drugs_Correlations[Drugs_Correlations.Cluster_ID == 2].index))"
      ]
    },
    {
      "cell_type": "code",
      "execution_count": null,
      "metadata": {
        "id": "qU8rxx052EzA"
      },
      "outputs": [],
      "source": [
        "#As we can see from the plots we get pretty well defined clusters."
      ]
    },
    {
      "cell_type": "code",
      "execution_count": null,
      "metadata": {
        "id": "tXuq4WMk2IVB"
      },
      "outputs": [],
      "source": [
        "# END FOR NOW #"
      ]
    },
    {
      "cell_type": "code",
      "execution_count": null,
      "metadata": {
        "id": "h80RS5De2NLs"
      },
      "outputs": [],
      "source": []
    },
    {
      "cell_type": "code",
      "execution_count": null,
      "metadata": {
        "id": "RYim88XYywHs"
      },
      "outputs": [],
      "source": []
    },
    {
      "cell_type": "code",
      "execution_count": null,
      "metadata": {
        "id": "V28-HM5vxMGR"
      },
      "outputs": [],
      "source": []
    },
    {
      "cell_type": "code",
      "execution_count": null,
      "metadata": {
        "id": "SeK6J5WTrBVp"
      },
      "outputs": [],
      "source": []
    }
  ],
  "metadata": {
    "colab": {
      "provenance": [],
      "authorship_tag": "ABX9TyMO8yC6h8Gao5GK0C8QKDZK",
      "include_colab_link": true
    },
    "kernelspec": {
      "display_name": "Python 3",
      "name": "python3"
    },
    "language_info": {
      "name": "python"
    }
  },
  "nbformat": 4,
  "nbformat_minor": 0
}